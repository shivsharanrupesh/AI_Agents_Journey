{
  "nbformat": 4,
  "nbformat_minor": 0,
  "metadata": {
    "colab": {
      "provenance": [],
      "authorship_tag": "ABX9TyNVdEvfLSarwI1yGqWGKJ07",
      "include_colab_link": true
    },
    "kernelspec": {
      "name": "python3",
      "display_name": "Python 3"
    },
    "language_info": {
      "name": "python"
    }
  },
  "cells": [
    {
      "cell_type": "markdown",
      "metadata": {
        "id": "view-in-github",
        "colab_type": "text"
      },
      "source": [
        "<a href=\"https://colab.research.google.com/github/shivsharanrupesh/GenAI_Agents_Journey/blob/main/Langgraph/LangGraph_tutorial.ipynb\" target=\"_parent\"><img src=\"https://colab.research.google.com/assets/colab-badge.svg\" alt=\"Open In Colab\"/></a>"
      ]
    },
    {
      "cell_type": "markdown",
      "source": [
        "**Introduction to LangGraph**\n",
        "LangGraph is a framework for creating applications using graph-based workflows. Each node represents a function or computational step, and edges define the flow between these nodes based on certain conditions.\n",
        "\n",
        "**Key Features:**\n",
        "1. State Management\n",
        "2. Flexible Routing\n",
        "3. Persistence\n",
        "4. Visualization\n",
        "\n",
        "**Tutorial Overview: Text Analysis Pipeline**\n",
        "In this tutorial, we'll demonstrate the power of LangGraph by building a multi-step text analysis pipeline. Our use case will focus on processing a given text through three key stages:\n",
        "\n",
        "**Text Classification:** We'll categorize the input text into predefined categories (e.g., News, Blog, Research, or Other).\n",
        "\n",
        "**Entity Extraction:** We'll identify and extract key entities such as persons, organizations, and locations from the text.\n",
        "\n",
        "**Text Summarization:** Finally, we'll generate a concise summary of the input text.\n",
        "\n",
        "This pipeline showcases how LangGraph can be used to create a modular, extensible workflow for natural language processing tasks. By the end of this tutorial, you'll understand how to construct a graph-based application that can be easily modified or expanded for various text analysis needs.\n",
        "\n"
      ],
      "metadata": {
        "id": "8NgK66FCUc-I"
      }
    },
    {
      "cell_type": "code",
      "source": [
        "import os\n",
        "from typing import TypedDict, List\n",
        "from langgraph.graph import StateGraph, END\n",
        "from langchain.prompts import PromptTemplate\n",
        "from langchain_openai import ChatOpenAI\n",
        "from langchain.schema import HumanMessage\n",
        "from langchain_core.runnables.graph import MermaidDrawMethod\n",
        "from IPython.display import display, Image"
      ],
      "metadata": {
        "id": "1cdEGs_uVDql"
      },
      "execution_count": 12,
      "outputs": []
    },
    {
      "cell_type": "code",
      "source": [
        "from openai import OpenAI\n",
        "from google.colab import userdata\n",
        "api_key = userdata.get('OPENAI_API_KEY')\n",
        "llm = ChatOpenAI(model=\"gpt-4o-mini\",api_key = api_key, temperature=0)\n"
      ],
      "metadata": {
        "id": "tcf746y6VEGv"
      },
      "execution_count": 13,
      "outputs": []
    },
    {
      "cell_type": "markdown",
      "source": [
        "**Building the Text Processing Pipeline**\n",
        "\n",
        "**Define State and Initialize LLM**\n",
        "\n",
        "Here we define the State class to hold our workflow data and initialize the ChatOpenAI model."
      ],
      "metadata": {
        "id": "FL7aZPpYV6R-"
      }
    },
    {
      "cell_type": "code",
      "source": [
        "class State(TypedDict):\n",
        "    text: str\n",
        "    classification: str\n",
        "    entities: List[str]\n",
        "    summary: str"
      ],
      "metadata": {
        "id": "Lbhp44TUV_kH"
      },
      "execution_count": 14,
      "outputs": []
    },
    {
      "cell_type": "markdown",
      "source": [
        "**Define Node Functions**\n",
        "\n",
        "These functions define the operations performed at each node of our graph: classification, entity extraction, and summarization."
      ],
      "metadata": {
        "id": "BkvUpZJIWF7S"
      }
    },
    {
      "cell_type": "code",
      "source": [
        "def classification_node(state: State):\n",
        "    ''' Classify the text into one of the categories: News, Blog, Research, or Other '''\n",
        "    prompt = PromptTemplate(\n",
        "        input_variables=[\"text\"],\n",
        "        template=\"Classify the following text into one of the categories: News, Blog, Research, or Other.\\n\\nText:{text}\\n\\nCategory:\"\n",
        "    )\n",
        "    message = HumanMessage(content=prompt.format(text=state[\"text\"]))\n",
        "    classification = llm.invoke([message]).content.strip()\n",
        "    return {\"classification\": classification}\n",
        "\n",
        "\n",
        "def entity_extraction_node(state: State):\n",
        "    ''' Extract all the entities (Person, Organization, Location) from the text '''\n",
        "    prompt = PromptTemplate(\n",
        "        input_variables=[\"text\"],\n",
        "        template=\"Extract all the entities (Person, Organization, Location) from the following text. Provide the result as a comma-separated list.\\n\\nText:{text}\\n\\nEntities:\"\n",
        "    )\n",
        "    message = HumanMessage(content=prompt.format(text=state[\"text\"]))\n",
        "    entities = llm.invoke([message]).content.strip().split(\", \")\n",
        "    return {\"entities\": entities}\n",
        "\n",
        "\n",
        "def summarization_node(state: State):\n",
        "    ''' Summarize the text in one short sentence '''\n",
        "    prompt = PromptTemplate(\n",
        "        input_variables=[\"text\"],\n",
        "        template=\"Summarize the following text in one short sentence.\\n\\nText:{text}\\n\\nSummary:\"\n",
        "    )\n",
        "    message = HumanMessage(content=prompt.format(text=state[\"text\"]))\n",
        "    summary = llm.invoke([message]).content.strip()\n",
        "    return {\"summary\": summary}\n"
      ],
      "metadata": {
        "id": "wxvuZBjNlj2B"
      },
      "execution_count": 15,
      "outputs": []
    },
    {
      "cell_type": "markdown",
      "source": [
        "**Create Tools and Build Workflow**\n",
        "\n",
        "This cell builds the StateGraph workflow."
      ],
      "metadata": {
        "id": "90tfVSECXi5H"
      }
    },
    {
      "cell_type": "code",
      "source": [
        "workflow = StateGraph(State)\n",
        "\n",
        "# Add nodes to the graph\n",
        "workflow.add_node(\"classification_node\", classification_node)\n",
        "workflow.add_node(\"entity_extraction\", entity_extraction_node)\n",
        "workflow.add_node(\"summarization\", summarization_node)\n",
        "\n",
        "# Add edges to the graph\n",
        "workflow.set_entry_point(\"classification_node\") # Set the entry point of the graph\n",
        "workflow.add_edge(\"classification_node\", \"entity_extraction\")\n",
        "workflow.add_edge(\"entity_extraction\", \"summarization\")\n",
        "workflow.add_edge(\"summarization\", END)\n",
        "\n",
        "# Compile the graph\n",
        "app = workflow.compile()"
      ],
      "metadata": {
        "id": "hZ1HdqCKXleg"
      },
      "execution_count": 19,
      "outputs": []
    },
    {
      "cell_type": "markdown",
      "source": [
        "**Visualizing the Workflow**\n",
        "\n",
        "This cell creates a visual representation of our workflow using Mermaid"
      ],
      "metadata": {
        "id": "sG-jbICyYXDw"
      }
    },
    {
      "cell_type": "code",
      "source": [
        "display(Image(app.get_graph().draw_mermaid_png(draw_method=MermaidDrawMethod.API,)))"
      ],
      "metadata": {
        "colab": {
          "base_uri": "https://localhost:8080/",
          "height": 449
        },
        "id": "yiHp6mO6YatW",
        "outputId": "13448010-61b5-4e3f-9ddd-fc735b1c3975"
      },
      "execution_count": 20,
      "outputs": [
        {
          "output_type": "display_data",
          "data": {
            "image/png": "[encoded data removed]",
            "text/plain": [
              "<IPython.core.display.Image object>"
            ]
          },
          "metadata": {}
        }
      ]
    },
    {
      "cell_type": "markdown",
      "source": [
        "**Testing the Pipeline**\n",
        "\n",
        "This cell runs a sample text through our pipeline and displays the results."
      ],
      "metadata": {
        "id": "CkNnBzY9Y3pg"
      }
    },
    {
      "cell_type": "code",
      "source": [
        "sample_text = \"\"\"\n",
        "Artificial Intelligence (AI) has become one of the most transformative technologies of the 21st century, and at the forefront of this revolution is OpenAI. Founded in December 2015, OpenAI has emerged as a leading force in AI research and development, pushing the boundaries of what machines can do and shaping the future of technology. In this blog, we’ll explore OpenAI’s journey, its groundbreaking achievements, and its impact on the world.\"\"\"\n",
        "\n",
        "state_input = {\"text\": sample_text}\n",
        "result = app.invoke(state_input)\n",
        "\n",
        "print(\"Classification:\", result[\"classification\"])\n",
        "print(\"\\nEntities:\", result[\"entities\"])\n",
        "print(\"\\nSummary:\", result[\"summary\"])"
      ],
      "metadata": {
        "colab": {
          "base_uri": "https://localhost:8080/"
        },
        "id": "_yGibueIY3aM",
        "outputId": "9bf45250-7da8-41ae-bb02-91326a9d9c12"
      },
      "execution_count": 22,
      "outputs": [
        {
          "output_type": "stream",
          "name": "stdout",
          "text": [
            "Classification: Blog\n",
            "\n",
            "Entities: ['OpenAI']\n",
            "\n",
            "Summary: OpenAI, founded in 2015, is a leading force in AI research and development, significantly shaping the future of technology.\n"
          ]
        }
      ]
    }
  ]
}