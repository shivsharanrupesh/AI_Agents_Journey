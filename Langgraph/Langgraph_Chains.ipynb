{
  "nbformat": 4,
  "nbformat_minor": 0,
  "metadata": {
    "colab": {
      "provenance": [],
      "authorship_tag": "ABX9TyMQXbVBDzqXmEayCzGe6SI2",
      "include_colab_link": true
    },
    "kernelspec": {
      "name": "python3",
      "display_name": "Python 3"
    },
    "language_info": {
      "name": "python"
    }
  },
  "cells": [
    {
      "cell_type": "markdown",
      "metadata": {
        "id": "view-in-github",
        "colab_type": "text"
      },
      "source": [
        "<a href=\"https://colab.research.google.com/github/shivsharanrupesh/GenAI_Agents_Journey/blob/main/Langgraph/Langgraph_Chains.ipynb\" target=\"_parent\"><img src=\"https://colab.research.google.com/assets/colab-badge.svg\" alt=\"Open In Colab\"/></a>"
      ]
    },
    {
      "cell_type": "markdown",
      "source": [
        "### Chain\n",
        "Review\n",
        "We built a simple graph with nodes, normal edges, and conditional edges.\n",
        "\n",
        "Goals\n",
        "Now, let's build up to a simple chain that combines 4 concepts:\n",
        "\n",
        "Using chat messages as our graph state\n",
        "Using chat models in graph nodes\n",
        "Binding tools to our chat model\n",
        "Executing tool calls in graph nodes"
      ],
      "metadata": {
        "id": "qqZdQ6UVIKhL"
      }
    },
    {
      "cell_type": "code",
      "execution_count": 32,
      "metadata": {
        "colab": {
          "base_uri": "https://localhost:8080/"
        },
        "id": "ywHV9qJRZ1UX",
        "outputId": "ec54aeaf-7bd6-4d14-c144-a988ca350bed"
      },
      "outputs": [
        {
          "output_type": "stream",
          "name": "stdout",
          "text": [
            "==================================\u001b[1m Ai Message \u001b[0m==================================\n",
            "Name: Model\n",
            "\n",
            "So you said you were researching ocean mammals?\n",
            "================================\u001b[1m Human Message \u001b[0m=================================\n",
            "Name: Lance\n",
            "\n",
            "Yes, that's right.\n",
            "==================================\u001b[1m Ai Message \u001b[0m==================================\n",
            "Name: Model\n",
            "\n",
            "Great, what would you like to learn about.\n",
            "================================\u001b[1m Human Message \u001b[0m=================================\n",
            "Name: Lance\n",
            "\n",
            "I want to learn about the best place to see Orcas in the US.\n"
          ]
        }
      ],
      "source": [
        "from pprint import pprint\n",
        "from langchain_core.messages import AIMessage, HumanMessage\n",
        "\n",
        "messages = [AIMessage(content=f\"So you said you were researching ocean mammals?\", name=\"Model\")]\n",
        "messages.append(HumanMessage(content=f\"Yes, that's right.\",name=\"Lance\"))\n",
        "messages.append(AIMessage(content=f\"Great, what would you like to learn about.\", name=\"Model\"))\n",
        "messages.append(HumanMessage(content=f\"I want to learn about the best place to see Orcas in the US.\", name=\"Lance\"))\n",
        "\n",
        "for m in messages:\n",
        "    m.pretty_print()"
      ]
    },
    {
      "cell_type": "code",
      "source": [
        "pip install langchain_groq langgraph langgraph-cli[inmem] langchain_openai"
      ],
      "metadata": {
        "colab": {
          "base_uri": "https://localhost:8080/"
        },
        "id": "7W1uNO8DJTqp",
        "outputId": "79f5fe9e-70c6-4e36-a11a-1a7b825f9f24"
      },
      "execution_count": 17,
      "outputs": [
        {
          "output_type": "stream",
          "name": "stdout",
          "text": [
            "Requirement already satisfied: langchain_groq in /usr/local/lib/python3.11/dist-packages (0.2.4)\n",
            "Requirement already satisfied: langgraph in /usr/local/lib/python3.11/dist-packages (0.2.74)\n",
            "Collecting langchain_openai\n",
            "  Downloading langchain_openai-0.3.6-py3-none-any.whl.metadata (2.3 kB)\n",
            "Requirement already satisfied: langgraph-cli[inmem] in /usr/local/lib/python3.11/dist-packages (0.1.73)\n",
            "Requirement already satisfied: groq<1,>=0.4.1 in /usr/local/lib/python3.11/dist-packages (from langchain_groq) (0.18.0)\n",
            "Requirement already satisfied: langchain-core<0.4.0,>=0.3.33 in /usr/local/lib/python3.11/dist-packages (from langchain_groq) (0.3.37)\n",
            "Requirement already satisfied: langgraph-checkpoint<3.0.0,>=2.0.10 in /usr/local/lib/python3.11/dist-packages (from langgraph) (2.0.16)\n",
            "Requirement already satisfied: langgraph-sdk<0.2.0,>=0.1.42 in /usr/local/lib/python3.11/dist-packages (from langgraph) (0.1.53)\n",
            "Requirement already satisfied: click<9.0.0,>=8.1.7 in /usr/local/lib/python3.11/dist-packages (from langgraph-cli[inmem]) (8.1.8)\n",
            "Requirement already satisfied: langgraph-api<0.1.0,>=0.0.26 in /usr/local/lib/python3.11/dist-packages (from langgraph-cli[inmem]) (0.0.26)\n",
            "Requirement already satisfied: python-dotenv>=0.8.0 in /usr/local/lib/python3.11/dist-packages (from langgraph-cli[inmem]) (1.0.1)\n",
            "Requirement already satisfied: openai<2.0.0,>=1.58.1 in /usr/local/lib/python3.11/dist-packages (from langchain_openai) (1.61.1)\n",
            "Collecting tiktoken<1,>=0.7 (from langchain_openai)\n",
            "  Downloading tiktoken-0.9.0-cp311-cp311-manylinux_2_17_x86_64.manylinux2014_x86_64.whl.metadata (6.7 kB)\n",
            "Requirement already satisfied: anyio<5,>=3.5.0 in /usr/local/lib/python3.11/dist-packages (from groq<1,>=0.4.1->langchain_groq) (3.7.1)\n",
            "Requirement already satisfied: distro<2,>=1.7.0 in /usr/local/lib/python3.11/dist-packages (from groq<1,>=0.4.1->langchain_groq) (1.9.0)\n",
            "Requirement already satisfied: httpx<1,>=0.23.0 in /usr/local/lib/python3.11/dist-packages (from groq<1,>=0.4.1->langchain_groq) (0.28.1)\n",
            "Requirement already satisfied: pydantic<3,>=1.9.0 in /usr/local/lib/python3.11/dist-packages (from groq<1,>=0.4.1->langchain_groq) (2.10.6)\n",
            "Requirement already satisfied: sniffio in /usr/local/lib/python3.11/dist-packages (from groq<1,>=0.4.1->langchain_groq) (1.3.1)\n",
            "Requirement already satisfied: typing-extensions<5,>=4.10 in /usr/local/lib/python3.11/dist-packages (from groq<1,>=0.4.1->langchain_groq) (4.12.2)\n",
            "Requirement already satisfied: langsmith<0.4,>=0.1.125 in /usr/local/lib/python3.11/dist-packages (from langchain-core<0.4.0,>=0.3.33->langchain_groq) (0.3.8)\n",
            "Requirement already satisfied: tenacity!=8.4.0,<10.0.0,>=8.1.0 in /usr/local/lib/python3.11/dist-packages (from langchain-core<0.4.0,>=0.3.33->langchain_groq) (9.0.0)\n",
            "Requirement already satisfied: jsonpatch<2.0,>=1.33 in /usr/local/lib/python3.11/dist-packages (from langchain-core<0.4.0,>=0.3.33->langchain_groq) (1.33)\n",
            "Requirement already satisfied: PyYAML>=5.3 in /usr/local/lib/python3.11/dist-packages (from langchain-core<0.4.0,>=0.3.33->langchain_groq) (6.0.2)\n",
            "Requirement already satisfied: packaging<25,>=23.2 in /usr/local/lib/python3.11/dist-packages (from langchain-core<0.4.0,>=0.3.33->langchain_groq) (24.2)\n",
            "Requirement already satisfied: cryptography<44.0.0,>=43.0.3 in /usr/local/lib/python3.11/dist-packages (from langgraph-api<0.1.0,>=0.0.26->langgraph-cli[inmem]) (43.0.3)\n",
            "Requirement already satisfied: jsonschema-rs<0.26.0,>=0.25.0 in /usr/local/lib/python3.11/dist-packages (from langgraph-api<0.1.0,>=0.0.26->langgraph-cli[inmem]) (0.25.1)\n",
            "Requirement already satisfied: orjson>=3.10.1 in /usr/local/lib/python3.11/dist-packages (from langgraph-api<0.1.0,>=0.0.26->langgraph-cli[inmem]) (3.10.15)\n",
            "Requirement already satisfied: pyjwt<3.0.0,>=2.9.0 in /usr/local/lib/python3.11/dist-packages (from langgraph-api<0.1.0,>=0.0.26->langgraph-cli[inmem]) (2.10.1)\n",
            "Requirement already satisfied: sse-starlette<2.2.0,>=2.1.0 in /usr/local/lib/python3.11/dist-packages (from langgraph-api<0.1.0,>=0.0.26->langgraph-cli[inmem]) (2.1.3)\n",
            "Requirement already satisfied: starlette>=0.38.6 in /usr/local/lib/python3.11/dist-packages (from langgraph-api<0.1.0,>=0.0.26->langgraph-cli[inmem]) (0.45.3)\n",
            "Requirement already satisfied: structlog<25.0.0,>=24.4.0 in /usr/local/lib/python3.11/dist-packages (from langgraph-api<0.1.0,>=0.0.26->langgraph-cli[inmem]) (24.4.0)\n",
            "Requirement already satisfied: uvicorn>=0.26.0 in /usr/local/lib/python3.11/dist-packages (from langgraph-api<0.1.0,>=0.0.26->langgraph-cli[inmem]) (0.34.0)\n",
            "Requirement already satisfied: watchfiles>=0.13 in /usr/local/lib/python3.11/dist-packages (from langgraph-api<0.1.0,>=0.0.26->langgraph-cli[inmem]) (1.0.4)\n",
            "Requirement already satisfied: msgpack<2.0.0,>=1.1.0 in /usr/local/lib/python3.11/dist-packages (from langgraph-checkpoint<3.0.0,>=2.0.10->langgraph) (1.1.0)\n",
            "Requirement already satisfied: jiter<1,>=0.4.0 in /usr/local/lib/python3.11/dist-packages (from openai<2.0.0,>=1.58.1->langchain_openai) (0.8.2)\n",
            "Requirement already satisfied: tqdm>4 in /usr/local/lib/python3.11/dist-packages (from openai<2.0.0,>=1.58.1->langchain_openai) (4.67.1)\n",
            "Requirement already satisfied: regex>=2022.1.18 in /usr/local/lib/python3.11/dist-packages (from tiktoken<1,>=0.7->langchain_openai) (2024.11.6)\n",
            "Requirement already satisfied: requests>=2.26.0 in /usr/local/lib/python3.11/dist-packages (from tiktoken<1,>=0.7->langchain_openai) (2.32.3)\n",
            "Requirement already satisfied: idna>=2.8 in /usr/local/lib/python3.11/dist-packages (from anyio<5,>=3.5.0->groq<1,>=0.4.1->langchain_groq) (3.10)\n",
            "Requirement already satisfied: cffi>=1.12 in /usr/local/lib/python3.11/dist-packages (from cryptography<44.0.0,>=43.0.3->langgraph-api<0.1.0,>=0.0.26->langgraph-cli[inmem]) (1.17.1)\n",
            "Requirement already satisfied: certifi in /usr/local/lib/python3.11/dist-packages (from httpx<1,>=0.23.0->groq<1,>=0.4.1->langchain_groq) (2025.1.31)\n",
            "Requirement already satisfied: httpcore==1.* in /usr/local/lib/python3.11/dist-packages (from httpx<1,>=0.23.0->groq<1,>=0.4.1->langchain_groq) (1.0.7)\n",
            "Requirement already satisfied: h11<0.15,>=0.13 in /usr/local/lib/python3.11/dist-packages (from httpcore==1.*->httpx<1,>=0.23.0->groq<1,>=0.4.1->langchain_groq) (0.14.0)\n",
            "Requirement already satisfied: jsonpointer>=1.9 in /usr/local/lib/python3.11/dist-packages (from jsonpatch<2.0,>=1.33->langchain-core<0.4.0,>=0.3.33->langchain_groq) (3.0.0)\n",
            "Requirement already satisfied: requests-toolbelt<2.0.0,>=1.0.0 in /usr/local/lib/python3.11/dist-packages (from langsmith<0.4,>=0.1.125->langchain-core<0.4.0,>=0.3.33->langchain_groq) (1.0.0)\n",
            "Requirement already satisfied: zstandard<0.24.0,>=0.23.0 in /usr/local/lib/python3.11/dist-packages (from langsmith<0.4,>=0.1.125->langchain-core<0.4.0,>=0.3.33->langchain_groq) (0.23.0)\n",
            "Requirement already satisfied: annotated-types>=0.6.0 in /usr/local/lib/python3.11/dist-packages (from pydantic<3,>=1.9.0->groq<1,>=0.4.1->langchain_groq) (0.7.0)\n",
            "Requirement already satisfied: pydantic-core==2.27.2 in /usr/local/lib/python3.11/dist-packages (from pydantic<3,>=1.9.0->groq<1,>=0.4.1->langchain_groq) (2.27.2)\n",
            "Requirement already satisfied: charset-normalizer<4,>=2 in /usr/local/lib/python3.11/dist-packages (from requests>=2.26.0->tiktoken<1,>=0.7->langchain_openai) (3.4.1)\n",
            "Requirement already satisfied: urllib3<3,>=1.21.1 in /usr/local/lib/python3.11/dist-packages (from requests>=2.26.0->tiktoken<1,>=0.7->langchain_openai) (2.3.0)\n",
            "Requirement already satisfied: pycparser in /usr/local/lib/python3.11/dist-packages (from cffi>=1.12->cryptography<44.0.0,>=43.0.3->langgraph-api<0.1.0,>=0.0.26->langgraph-cli[inmem]) (2.22)\n",
            "Downloading langchain_openai-0.3.6-py3-none-any.whl (54 kB)\n",
            "\u001b[2K   \u001b[90m━━━━━━━━━━━━━━━━━━━━━━━━━━━━━━━━━━━━━━━━\u001b[0m \u001b[32m54.9/54.9 kB\u001b[0m \u001b[31m1.6 MB/s\u001b[0m eta \u001b[36m0:00:00\u001b[0m\n",
            "\u001b[?25hDownloading tiktoken-0.9.0-cp311-cp311-manylinux_2_17_x86_64.manylinux2014_x86_64.whl (1.2 MB)\n",
            "\u001b[2K   \u001b[90m━━━━━━━━━━━━━━━━━━━━━━━━━━━━━━━━━━━━━━━━\u001b[0m \u001b[32m1.2/1.2 MB\u001b[0m \u001b[31m17.3 MB/s\u001b[0m eta \u001b[36m0:00:00\u001b[0m\n",
            "\u001b[?25hInstalling collected packages: tiktoken, langchain_openai\n",
            "Successfully installed langchain_openai-0.3.6 tiktoken-0.9.0\n"
          ]
        }
      ]
    },
    {
      "cell_type": "code",
      "source": [
        "from openai import OpenAI\n",
        "from google.colab import userdata\n",
        "api_key = userdata.get('GROQ_API_KEY')"
      ],
      "metadata": {
        "id": "3fZyp7VbIP0y"
      },
      "execution_count": 33,
      "outputs": []
    },
    {
      "cell_type": "code",
      "source": [
        "from langchain_groq import ChatGroq\n",
        "client = OpenAI(api_key=api_key)\n",
        "llm=ChatGroq(model=\"qwen-2.5-32b\", api_key=api_key)\n",
        "result=llm.invoke(messages)\n",
        "result"
      ],
      "metadata": {
        "colab": {
          "base_uri": "https://localhost:8080/"
        },
        "id": "ATxPEcf5JKXc",
        "outputId": "27153811-181c-4077-a065-d998aadc4a22"
      },
      "execution_count": 34,
      "outputs": [
        {
          "output_type": "execute_result",
          "data": {
            "text/plain": [
              "AIMessage(content=\"Orcas, also known as killer whales, can be spotted in various parts of the United States, but some areas are more reliable for sightings than others. Here are a few prime locations where you might have a good chance of seeing orcas:\\n\\n1. **San Juan Islands, Washington**: Located in the northern part of Puget Sound, the San Juan Islands are a popular spot for orca watching. The area is home to the Southern Resident killer whale population, which is a distinct community of orcas known to frequent the waters around the islands. Many tour companies offer whale-watching tours from the islands.\\n\\n2. **Seattle, Washington**: Just a short boat ride from Seattle, the waters around the city are another excellent place to see orcas. Whale-watching tours depart from Seattle and are a popular way to see orcas as well as other marine wildlife.\\n\\n3. **Alaska**: The waters of Alaska, particularly around Juneau, are rich in marine life, and orcas can be seen there throughout much of the year. Whale-watching tours are available from several ports in Alaska.\\n\\n4. **Sausalito, California**: While less frequent than in the northern states, orcas can occasionally be seen in the waters near Sausalito, especially during the winter and early spring. There are tours that go out from Sausalito to look for whales.\\n\\n5. **Monterey Bay, California**: Another spot in California where orcas might be seen, though they are not as frequent as in the northern regions. Monterey Bay is known for its rich marine life and is a good spot for whale-watching.\\n\\nWhen planning a trip to see orcas, it's a good idea to check the seasonal patterns and availability of tours. The best times for orca watching can vary depending on the location and the specific behaviors of the orcas, such as feeding or migration patterns.\", additional_kwargs={}, response_metadata={'token_usage': {'completion_tokens': 383, 'prompt_tokens': 90, 'total_tokens': 473, 'completion_time': 1.915, 'prompt_time': 0.006499595, 'queue_time': 0.237158509, 'total_time': 1.921499595}, 'model_name': 'qwen-2.5-32b', 'system_fingerprint': 'fp_35f92f8282', 'finish_reason': 'stop', 'logprobs': None}, id='run-0616c9f9-2bca-49e3-a46e-49a563046074-0', usage_metadata={'input_tokens': 90, 'output_tokens': 383, 'total_tokens': 473})"
            ]
          },
          "metadata": {},
          "execution_count": 34
        }
      ]
    },
    {
      "cell_type": "code",
      "source": [
        "def add(a: int, b: int) -> int:\n",
        "    \"\"\"\n",
        "    Adds two integers and returns the result.\n",
        "\n",
        "    Args:\n",
        "    -----\n",
        "    a (int): The first integer.\n",
        "    b (int): The second integer.\n",
        "\n",
        "    Returns:\n",
        "    --------\n",
        "    int: The sum of `a` and `b`.\n",
        "    \"\"\"\n",
        "    return a + b\n"
      ],
      "metadata": {
        "id": "BXdjVM8CJtri"
      },
      "execution_count": 35,
      "outputs": []
    },
    {
      "cell_type": "code",
      "source": [
        "# Bind the \"add\" function as a tool for the language model\n",
        "llm_with_tools = llm.bind_tools([add])"
      ],
      "metadata": {
        "id": "UhyZcaOFJwtR"
      },
      "execution_count": 36,
      "outputs": []
    },
    {
      "cell_type": "code",
      "source": [
        "# Invoke the LLM with a human message asking for an addition calculation\n",
        "tool_call = llm_with_tools.invoke([HumanMessage(content=\"What is 2 plus 3\", name=\"Lance\")])\n",
        "\n",
        "# Print the response\n",
        "print(tool_call)\n"
      ],
      "metadata": {
        "colab": {
          "base_uri": "https://localhost:8080/"
        },
        "id": "Uz-DD0cSJzlo",
        "outputId": "f924b73f-bec0-4914-ae23-490a7c40a212"
      },
      "execution_count": 37,
      "outputs": [
        {
          "output_type": "stream",
          "name": "stdout",
          "text": [
            "content='' additional_kwargs={'tool_calls': [{'id': 'call_2aqf', 'function': {'arguments': '{\"a\": 2, \"b\": 3}', 'name': 'add'}, 'type': 'function'}]} response_metadata={'token_usage': {'completion_tokens': 25, 'prompt_tokens': 197, 'total_tokens': 222, 'completion_time': 0.125, 'prompt_time': 0.01231808, 'queue_time': 0.236261595, 'total_time': 0.13731808}, 'model_name': 'qwen-2.5-32b', 'system_fingerprint': 'fp_35f92f8282', 'finish_reason': 'tool_calls', 'logprobs': None} id='run-80972a2c-a143-4106-9b95-49569301d4b6-0' tool_calls=[{'name': 'add', 'args': {'a': 2, 'b': 3}, 'id': 'call_2aqf', 'type': 'tool_call'}] usage_metadata={'input_tokens': 197, 'output_tokens': 25, 'total_tokens': 222}\n"
          ]
        }
      ]
    },
    {
      "cell_type": "code",
      "source": [
        "from typing_extensions import TypedDict\n",
        "from langchain_core.messages import AnyMessage\n",
        "from typing import Annotated\n",
        "from langgraph.graph.message import add_messages\n",
        "\n",
        "class MessageState(TypedDict):\n",
        "    \"\"\"\n",
        "    Represents the state structure for storing and managing messages in a conversational AI system.\n",
        "\n",
        "    Attributes:\n",
        "    -----------\n",
        "    messages : list[AnyMessage]\n",
        "        A list of messages exchanged within the conversation.\n",
        "        The `add_messages` function from `langgraph` ensures new messages are appended properly.\n",
        "    \"\"\"\n",
        "    messages: Annotated[list[AnyMessage], add_messages]\n"
      ],
      "metadata": {
        "id": "TNiMsBJmJ4EA"
      },
      "execution_count": 38,
      "outputs": []
    },
    {
      "cell_type": "code",
      "source": [
        "initial_message=[AIMessage(content=\"Hello! How can I assist you?\", name=\"Model\"),\n",
        "                    HumanMessage(content=\"I'm looking for information on generative ai.\", name=\"Rupesh\")\n",
        "                   ]\n",
        "# New message to add\n",
        "new_message = AIMessage(content=\"Sure, I can help with that. What specifically are you interested in?\", name=\"Model\")\n",
        "\n",
        "add_messages(initial_message,new_message)"
      ],
      "metadata": {
        "colab": {
          "base_uri": "https://localhost:8080/"
        },
        "id": "ZlKzRYC5J5gG",
        "outputId": "b014a808-5eac-4608-a92c-01ce802ee593"
      },
      "execution_count": 13,
      "outputs": [
        {
          "output_type": "execute_result",
          "data": {
            "text/plain": [
              "[AIMessage(content='Hello! How can I assist you?', additional_kwargs={}, response_metadata={}, name='Model', id='c022c499-1e55-4c06-802d-7f958d69d4dd'),\n",
              " HumanMessage(content=\"I'm looking for information on generative ai.\", additional_kwargs={}, response_metadata={}, name='Rupesh', id='a2979d57-ed85-4ea5-bd5b-f32a6a1deaf5'),\n",
              " AIMessage(content='Sure, I can help with that. What specifically are you interested in?', additional_kwargs={}, response_metadata={}, name='Model', id='fab66961-ae3b-414c-a031-855cfea0a56c')]"
            ]
          },
          "metadata": {},
          "execution_count": 13
        }
      ]
    },
    {
      "cell_type": "code",
      "source": [
        "from IPython.display import Image, display\n",
        "from langgraph.graph import StateGraph, START, END\n",
        "\n",
        "# Node\n",
        "def tool_calling_llm(state: MessageState):\n",
        "    \"\"\"\n",
        "    Processes the input messages using the LLM and returns updated messages.\n",
        "\n",
        "    Parameters:\n",
        "    ----------\n",
        "    state (MessageState): A dictionary containing a list of messages.\n",
        "\n",
        "    Returns:\n",
        "    --------\n",
        "    MessageState: The updated state with the LLM response added.\n",
        "    \"\"\"\n",
        "    return {\"messages\": [llm_with_tools.invoke(state[\"messages\"])]}\n",
        "\n",
        "# Build graph\n",
        "builder = StateGraph(MessageState)\n",
        "builder.add_node(\"tool_calling_llm\", tool_calling_llm)\n",
        "builder.add_edge(START, \"tool_calling_llm\")\n",
        "builder.add_edge(\"tool_calling_llm\", END)\n",
        "graph = builder.compile()\n",
        "\n",
        "# View\n",
        "display(Image(graph.get_graph().draw_mermaid_png()))"
      ],
      "metadata": {
        "colab": {
          "base_uri": "https://localhost:8080/",
          "height": 251
        },
        "id": "906P5_u0KBwg",
        "outputId": "7d4af9a9-ddd7-4f4c-ac6f-f9ab26eb7fc7"
      },
      "execution_count": 40,
      "outputs": [
        {
          "output_type": "display_data",
          "data": {
            "image/png": "[encoded data removed]",
            "text/plain": [
              "<IPython.core.display.Image object>"
            ]
          },
          "metadata": {}
        }
      ]
    },
    {
      "cell_type": "code",
      "source": [
        "messages=graph.invoke({\"messages\":HumanMessage(content=\"What is 2 minus 3\")})\n",
        "for m in messages['messages']:\n",
        "    m.pretty_print()"
      ],
      "metadata": {
        "colab": {
          "base_uri": "https://localhost:8080/"
        },
        "id": "iF4SJvDAKDQT",
        "outputId": "ed6b5f1d-982b-41a1-bac8-54102a681d3d"
      },
      "execution_count": 15,
      "outputs": [
        {
          "output_type": "stream",
          "name": "stdout",
          "text": [
            "================================\u001b[1m Human Message \u001b[0m=================================\n",
            "\n",
            "What is 2 minus 3\n",
            "==================================\u001b[1m Ai Message \u001b[0m==================================\n",
            "\n",
            "The operation you asked for is subtraction, but the function I have for addition. However, I can help you solve 2 minus 3 without needing to call a function, as it is a simple arithmetic operation. \n",
            "\n",
            "2 minus 3 equals -1.\n"
          ]
        }
      ]
    },
    {
      "cell_type": "code",
      "source": [
        "from langchain_openai import ChatOpenAI\n",
        "\n",
        "def multiply(a: int, b: int) -> int:\n",
        "    \"\"\"\n",
        "    Multiplies two integers and returns the result.\n",
        "\n",
        "    Args:\n",
        "    -----\n",
        "    a (int): The first integer.\n",
        "    b (int): The second integer.\n",
        "\n",
        "    Returns:\n",
        "    --------\n",
        "    int: The product of `a` and `b`.\n",
        "    \"\"\"\n",
        "    return a * b\n"
      ],
      "metadata": {
        "id": "jlFH2TssKI1U"
      },
      "execution_count": 18,
      "outputs": []
    },
    {
      "cell_type": "markdown",
      "source": [
        "### Tools\n",
        "Tools are useful whenever you want a model to interact with external systems.\n",
        "\n",
        "External systems (e.g., APIs) often require a particular input schema or payload, rather than natural language.\n",
        "\n",
        "When we bind an API, for example, as a tool we given the model awareness of the required input schema.\n",
        "\n",
        "The model will choose to call a tool based upon the natural language input from the user.\n",
        "\n",
        "And, it will return an output that adheres to the tool's schema.\n",
        "\n",
        "Many LLM providers support tool calling and tool calling interface in LangChain is simple.\n",
        "\n",
        "You can simply pass any Python function into ChatModel.bind_tools(function)."
      ],
      "metadata": {
        "id": "A_pT64BhKTjm"
      }
    },
    {
      "cell_type": "code",
      "source": [
        "from google.colab import userdata\n",
        "api_key = userdata.get('OPENAI_API_KEY')\n",
        "client = OpenAI(api_key=api_key)\n",
        "llm = ChatOpenAI(model=\"gpt-4o\", api_key=api_key)\n",
        "result=llm.invoke(\"Hello\")\n",
        "result"
      ],
      "metadata": {
        "colab": {
          "base_uri": "https://localhost:8080/"
        },
        "id": "bVm7j0PvKUxc",
        "outputId": "7f91d923-b42b-4df1-dbb6-5ae438d00a92"
      },
      "execution_count": 26,
      "outputs": [
        {
          "output_type": "execute_result",
          "data": {
            "text/plain": [
              "AIMessage(content='Hello! How can I assist you today?', additional_kwargs={'refusal': None}, response_metadata={'token_usage': {'completion_tokens': 10, 'prompt_tokens': 8, 'total_tokens': 18, 'completion_tokens_details': {'accepted_prediction_tokens': 0, 'audio_tokens': 0, 'reasoning_tokens': 0, 'rejected_prediction_tokens': 0}, 'prompt_tokens_details': {'audio_tokens': 0, 'cached_tokens': 0}}, 'model_name': 'gpt-4o-2024-08-06', 'system_fingerprint': 'fp_eb9dce56a8', 'finish_reason': 'stop', 'logprobs': None}, id='run-8aab0a8d-9052-4db6-9856-65da819b94e8-0', usage_metadata={'input_tokens': 8, 'output_tokens': 10, 'total_tokens': 18, 'input_token_details': {'audio': 0, 'cache_read': 0}, 'output_token_details': {'audio': 0, 'reasoning': 0}})"
            ]
          },
          "metadata": {},
          "execution_count": 26
        }
      ]
    },
    {
      "cell_type": "code",
      "source": [
        "# Bind the multiply and add functions as tools for the LLM\n",
        "llm_with_tools = llm.bind_tools([multiply,add])"
      ],
      "metadata": {
        "id": "4K5v6SR-LhZS"
      },
      "execution_count": 27,
      "outputs": []
    },
    {
      "cell_type": "code",
      "source": [
        "from IPython.display import Image, display\n",
        "from langgraph.graph import StateGraph, START, END\n",
        "from langgraph.graph import MessagesState"
      ],
      "metadata": {
        "id": "tKueztYELjt1"
      },
      "execution_count": 28,
      "outputs": []
    },
    {
      "cell_type": "code",
      "source": [
        "from langgraph.prebuilt import ToolNode\n",
        "from langgraph.prebuilt import tools_condition"
      ],
      "metadata": {
        "id": "L6GHmvu9Lm4s"
      },
      "execution_count": 29,
      "outputs": []
    },
    {
      "cell_type": "code",
      "source": [
        "from IPython.display import Image, display\n",
        "from langgraph.graph import StateGraph, START, END\n",
        "from langgraph.prebuilt import tools_condition, ToolNode\n",
        "\n",
        "# Node: Calls the LLM with the current messages state\n",
        "def tool_calling_llm(state: MessagesState):\n",
        "    \"\"\"\n",
        "    Invokes the LLM with the given message history.\n",
        "\n",
        "    Args:\n",
        "        state (MessagesState): The current conversation state containing messages.\n",
        "\n",
        "    Returns:\n",
        "        MessagesState: The updated state with the LLM's response.\n",
        "    \"\"\"\n",
        "    return {\"messages\": [llm_with_tools.invoke(state[\"messages\"])]}\n",
        "\n",
        "# Build the graph\n",
        "builder = StateGraph(MessagesState)\n",
        "\n",
        "# Add nodes to the graph\n",
        "builder.add_node(\"tool_calling_llm\", tool_calling_llm)  # Node for LLM invocation\n",
        "builder.add_node(\"tools\", ToolNode([multiply, add]))  # Node for tool execution\n",
        "\n",
        "# Define edges (flow of execution)\n",
        "builder.add_edge(START, \"tool_calling_llm\")  # Start at LLM node\n",
        "\n",
        "# Conditional edge: Determines if the LLM's response includes a tool call\n",
        "builder.add_conditional_edges(\n",
        "    \"tool_calling_llm\",\n",
        "    tools_condition,  # Routes to \"tools\" if a tool is needed; otherwise, ends\n",
        ")\n",
        "\n",
        "builder.add_edge(\"tools\", END)  # If tools are executed, the process ends\n",
        "\n",
        "# Compile the graph\n",
        "graph = builder.compile()\n",
        "\n",
        "# View the graph structure as an image\n",
        "display(Image(graph.get_graph().draw_mermaid_png()))\n"
      ],
      "metadata": {
        "colab": {
          "base_uri": "https://localhost:8080/",
          "height": 350
        },
        "id": "zNu0RvTkLpDC",
        "outputId": "46a2965d-2b82-427b-a243-4537de4b3e74"
      },
      "execution_count": 41,
      "outputs": [
        {
          "output_type": "display_data",
          "data": {
            "image/png": "[encoded data removed]",
            "text/plain": [
              "<IPython.core.display.Image object>"
            ]
          },
          "metadata": {}
        }
      ]
    },
    {
      "cell_type": "code",
      "source": [
        "from langchain_core.messages import HumanMessage\n",
        "messages = [HumanMessage(content=\"Add 3 and 4. Multiply the output by 2 and add 5.\")]\n",
        "messages = graph.invoke({\"messages\": messages})\n",
        "for m in messages['messages']:\n",
        "    m.pretty_print()"
      ],
      "metadata": {
        "colab": {
          "base_uri": "https://localhost:8080/"
        },
        "id": "_7VlQRKcLta3",
        "outputId": "3a3e3c94-57e2-4b0e-f42b-88aa4cc6b353"
      },
      "execution_count": 42,
      "outputs": [
        {
          "output_type": "stream",
          "name": "stdout",
          "text": [
            "================================\u001b[1m Human Message \u001b[0m=================================\n",
            "\n",
            "Add 3 and 4. Multiply the output by 2 and add 5.\n",
            "==================================\u001b[1m Ai Message \u001b[0m==================================\n",
            "Tool Calls:\n",
            "  add (call_pwsq)\n",
            " Call ID: call_pwsq\n",
            "  Args:\n",
            "    a: 3\n",
            "    b: 4\n",
            "=================================\u001b[1m Tool Message \u001b[0m=================================\n",
            "Name: add\n",
            "\n",
            "7\n"
          ]
        }
      ]
    }
  ]
}